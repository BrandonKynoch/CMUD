{
 "cells": [
  {
   "cell_type": "code",
   "execution_count": 5,
   "id": "08ebeabd",
   "metadata": {
    "scrolled": true
   },
   "outputs": [
    {
     "name": "stdout",
     "output_type": "stream",
     "text": [
      "(1500000,)\n",
      "(500, 1000, 3)\n"
     ]
    }
   ],
   "source": [
    "import cv2\n",
    "import numpy as np\n",
    "import numpy.lib.recfunctions as nlr\n",
    "\n",
    "fd = open('C:\\\\Brandon\\\\CurrentProjects\\\\CMUD\\\\YoloNerf\\\\output\\\\framedump.txt', 'rb')\n",
    "FRAME_WIDTH = 1000\n",
    "FRAME_HEIGHT = 500\n",
    "f = np.fromfile(fd, dtype=np.uint8, count=FRAME_WIDTH*FRAME_HEIGHT*3)\n",
    "fd.close()\n",
    "\n",
    "print(f.shape)\n",
    "img = f.reshape((FRAME_WIDTH, FRAME_HEIGHT, 3))\n",
    "img = img * 1.0/255.0\n",
    "img = np.flip(img) # Convert from BGR to RGB\n",
    "img = np.transpose(img, (1, 0, 2))\n",
    "\n",
    "print(img.shape)"
   ]
  },
  {
   "cell_type": "code",
   "execution_count": 4,
   "id": "50d907fc",
   "metadata": {},
   "outputs": [
    {
     "data": {
      "text/plain": [
       "-1"
      ]
     },
     "execution_count": 4,
     "metadata": {},
     "output_type": "execute_result"
    }
   ],
   "source": [
    "cv2.imshow('Framedump', img)\n",
    "cv2.waitKey()"
   ]
  },
  {
   "cell_type": "code",
   "execution_count": null,
   "id": "599e9862",
   "metadata": {},
   "outputs": [],
   "source": []
  },
  {
   "cell_type": "code",
   "execution_count": null,
   "id": "932bda31",
   "metadata": {},
   "outputs": [],
   "source": []
  },
  {
   "cell_type": "code",
   "execution_count": null,
   "id": "2a1d6349",
   "metadata": {},
   "outputs": [],
   "source": []
  },
  {
   "cell_type": "code",
   "execution_count": null,
   "id": "602dc009",
   "metadata": {},
   "outputs": [],
   "source": []
  },
  {
   "cell_type": "code",
   "execution_count": null,
   "id": "ba6207e7",
   "metadata": {},
   "outputs": [],
   "source": []
  },
  {
   "cell_type": "code",
   "execution_count": null,
   "id": "6b61417d",
   "metadata": {},
   "outputs": [],
   "source": []
  },
  {
   "cell_type": "code",
   "execution_count": null,
   "id": "81c1545a",
   "metadata": {},
   "outputs": [],
   "source": []
  },
  {
   "cell_type": "code",
   "execution_count": null,
   "id": "e929cdff",
   "metadata": {},
   "outputs": [],
   "source": []
  },
  {
   "cell_type": "code",
   "execution_count": 6,
   "id": "307eaba7",
   "metadata": {},
   "outputs": [
    {
     "data": {
      "text/plain": [
       "13"
      ]
     },
     "execution_count": 6,
     "metadata": {},
     "output_type": "execute_result"
    }
   ],
   "source": [
    "test_img = np.zeros([500,500,3])\n",
    "\n",
    "test_img[:,:,2] = np.ones([500,500])*0/255.0 #R\n",
    "test_img[:,:,1] = np.ones([500,500])*0/255.0 #G\n",
    "test_img[:,:,0] = np.ones([500,500])*255/255.0 #B\n",
    "\n",
    "#cv2.imwrite('color_img.jpg', test_img)\n",
    "cv2.imshow(\"image\", test_img)\n",
    "cv2.waitKey()"
   ]
  },
  {
   "cell_type": "code",
   "execution_count": null,
   "id": "efd0abd3",
   "metadata": {},
   "outputs": [],
   "source": []
  }
 ],
 "metadata": {
  "kernelspec": {
   "display_name": "Python [conda env:.conda-ngp]",
   "language": "python",
   "name": "conda-env-.conda-ngp-py"
  },
  "language_info": {
   "codemirror_mode": {
    "name": "ipython",
    "version": 3
   },
   "file_extension": ".py",
   "mimetype": "text/x-python",
   "name": "python",
   "nbconvert_exporter": "python",
   "pygments_lexer": "ipython3",
   "version": "3.10.4"
  }
 },
 "nbformat": 4,
 "nbformat_minor": 5
}
