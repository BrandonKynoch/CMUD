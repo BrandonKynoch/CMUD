{
 "cells": [
  {
   "cell_type": "code",
   "execution_count": 1,
   "id": "f0b610b3",
   "metadata": {
    "scrolled": true
   },
   "outputs": [],
   "source": [
    "import cv2\n",
    "import numpy as np\n",
    "import numpy.lib.recfunctions as nlr\n",
    "\n",
    "#fd = open('C:\\\\Brandon\\\\CurrentProjects\\\\CMUD\\\\YoloNerf\\\\output\\\\framedump.txt', 'rb')\n",
    "#fd = open('/home/fri/bkynoch/CMUD/YoloNerf/output/framedump.txt', 'rb')\n",
    "#FRAME_WIDTH = 1000\n",
    "#FRAME_HEIGHT = 500\n",
    "#f = np.fromfile(fd, dtype=np.uint8, count=FRAME_WIDTH*FRAME_HEIGHT*3)\n",
    "#fd.close()\n",
    "\n",
    "def reshapeBuffer(data, width, height):\n",
    "    img = data.reshape((width, height, 3))\n",
    "    img = img * 1.0/255.0\n",
    "    img = np.flip(img) # Convert from BGR to RGB\n",
    "    img = np.transpose(img, (1, 0, 2))\n",
    "    # print(img.shape)\n",
    "    return img\n",
    "\n"
   ]
  },
  {
   "cell_type": "code",
   "execution_count": null,
   "id": "21ea42af",
   "metadata": {},
   "outputs": [
    {
     "name": "stdout",
     "output_type": "stream",
     "text": [
      "(1000, 500)\n"
     ]
    }
   ],
   "source": [
    "import socket\n",
    "from struct import *\n",
    "\n",
    "HOST = \"127.0.0.1\" #Localhost / loopback\n",
    "PORT = 28754\n",
    "\n",
    "s = socket.socket(socket.AF_INET, socket.SOCK_STREAM)\n",
    "s.connect((HOST, PORT))\n",
    "\n",
    "package_header = s.recv(8)\n",
    "frame_dimension = unpack('II', package_header)\n",
    "print(frame_dimension)\n",
    "width = frame_dimension[0]\n",
    "height = frame_dimension[1]\n",
    "\n",
    "buffer = s.recv(width * height * 3)\n",
    "print(len(buffer))\n",
    "print(buffer)\n",
    "\n",
    "s.send(b'\\0xEReceived buffer')\n",
    "\n",
    "np_buffer = np.frombuffer(buffer, dtype=np.uint32)\n",
    "\n",
    "img = reshapeBuffer(np_buffer, width, height)\n",
    "\n",
    "cv2.imshow('Framedump', img)\n",
    "cv2.waitKey()\n"
   ]
  },
  {
   "cell_type": "code",
   "execution_count": null,
   "id": "57fafdef",
   "metadata": {},
   "outputs": [],
   "source": []
  },
  {
   "cell_type": "code",
   "execution_count": null,
   "id": "7ac47bc8",
   "metadata": {},
   "outputs": [],
   "source": []
  },
  {
   "cell_type": "code",
   "execution_count": null,
   "id": "2591236a",
   "metadata": {},
   "outputs": [],
   "source": []
  },
  {
   "cell_type": "code",
   "execution_count": null,
   "id": "45e7d987",
   "metadata": {},
   "outputs": [],
   "source": []
  },
  {
   "cell_type": "code",
   "execution_count": null,
   "id": "06d5dc66",
   "metadata": {},
   "outputs": [],
   "source": []
  },
  {
   "cell_type": "code",
   "execution_count": null,
   "id": "106fe637",
   "metadata": {},
   "outputs": [],
   "source": []
  },
  {
   "cell_type": "code",
   "execution_count": null,
   "id": "acccb462",
   "metadata": {},
   "outputs": [],
   "source": [
    "test_img = np.zeros([500,500,3])\n",
    "\n",
    "test_img[:,:,2] = np.ones([500,500])*0/255.0 #R\n",
    "test_img[:,:,1] = np.ones([500,500])*0/255.0 #G\n",
    "test_img[:,:,0] = np.ones([500,500])*255/255.0 #B\n",
    "\n",
    "#cv2.imwrite('color_img.jpg', test_img)\n",
    "cv2.imshow(\"image\", test_img)\n",
    "cv2.waitKey()"
   ]
  },
  {
   "cell_type": "code",
   "execution_count": null,
   "id": "4fa59c9a",
   "metadata": {},
   "outputs": [],
   "source": []
  }
 ],
 "metadata": {
  "kernelspec": {
   "display_name": "Python 3 (ipykernel)",
   "language": "python",
   "name": "python3"
  },
  "language_info": {
   "codemirror_mode": {
    "name": "ipython",
    "version": 3
   },
   "file_extension": ".py",
   "mimetype": "text/x-python",
   "name": "python",
   "nbconvert_exporter": "python",
   "pygments_lexer": "ipython3",
   "version": "3.9.7"
  }
 },
 "nbformat": 4,
 "nbformat_minor": 5
}
